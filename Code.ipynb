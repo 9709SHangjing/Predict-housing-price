{
 "cells": [
  {
   "cell_type": "markdown",
   "metadata": {},
   "source": [
    "-------\n",
    "<h1 align=\"center\"> <font size=\"30\"> CS5785 HW 1 -- Applied Machine Learning </font>  </h1>  \n",
    "\n",
    "-------\n",
    "\n",
    "<h1 align=\"center\"> <font size=\"5\"> Student: Shangjing Tang(st787)， Katherine Wu(Kw634) </font> </h1>  \n",
    "&nbsp;\n",
    "&NewLine;\n",
    "&NewLine;\n",
    "\n",
    "<h1 align=\"center\"> <font size=\"5\"> Due Date: September 13th </font> </h1> \n"
   ]
  },
  {
   "cell_type": "code",
   "execution_count": null,
   "metadata": {},
   "outputs": [],
   "source": []
  },
  {
   "cell_type": "markdown",
   "metadata": {},
   "source": [
    "<div style=\"page-break-after: always; break-after: page;\"></div>\n",
    "<h1 align=\"center\"> <font size=\"5\"> PROGRAMMING EXERCISES </font> </h1>\n",
    "\n",
    "#### Part I. The Housing Prices\n",
    "1. Join the House Prices - Advanced Regression Techniques competition on Kaggle. Download the training and test data.\n",
    "2. Give3 examples of continuous and categorical features in the dataset; choose one feature of each type and plot the histogram to illustrate the distribution."
   ]
  },
  {
   "cell_type": "code",
   "execution_count": 455,
   "metadata": {},
   "outputs": [
    {
     "data": {
      "image/png": "[encoded data removed]",
      "text/plain": [
       "<Figure size 432x288 with 1 Axes>"
      ]
     },
     "metadata": {},
     "output_type": "display_data"
    },
    {
     "data": {
      "image/png": "[encoded data removed]",
      "text/plain": [
       "<Figure size 432x288 with 1 Axes>"
      ]
     },
     "metadata": {},
     "output_type": "display_data"
    }
   ],
   "source": [
    "import matplotlib.pyplot as plt\n",
    "import pandas as pd \n",
    "import numpy as np\n",
    "import os\n",
    "import warnings\n",
    "import seaborn as sns\n",
    "from scipy.stats import skew\n",
    "from matplotlib import pyplot as plt\n",
    "from sklearn.preprocessing import LabelBinarizer\n",
    "from sklearn.preprocessing import OneHotEncoder\n",
    "from sklearn import datasets\n",
    "from sklearn.model_selection import cross_val_score, train_test_split\n",
    "from sklearn.preprocessing import StandardScaler\n",
    "from sklearn.linear_model import LinearRegression\n",
    "from sklearn.metrics import mean_squared_error, r2_score, make_scorer\n",
    "\n",
    "pd.options.mode.chained_assignment = None  # default='warn'\n",
    "warnings.filterwarnings('ignore')\n",
    "%matplotlib inline\n",
    "workingDirectory = os.getcwd()\n",
    "trainData = pd.read_csv(workingDirectory+\"/train.csv\")\n",
    "testData = pd.read_csv(workingDirectory+ \"/test.csv\")\n",
    "all_data = pd.concat([trainData, testData], axis=0) #merge both trainig\n",
    "\n",
    "con_feat1  = all_data['SalePrice']\n",
    "con_feat2 = all_data['LotFrontage'] \n",
    "con_feat3 = all_data['LotArea']\n",
    "\n",
    "cat_feat4 = all_data['SaleCondition']\n",
    "cat_feat5 = all_data['MSZoning']\n",
    "cat_feat6 = all_data['LotShape']\n",
    "\n",
    "plt.style.use('seaborn-whitegrid')\n",
    "plt.hist(con_feat1, bins=30,facecolor = '#2ab0ff', edgecolor='#169acf', linewidth=0.5)  # density=False would make counts\n",
    "plt.ylabel('distribution')\n",
    "plt.xlabel('Sale price')\n",
    "\n",
    "plt.show()\n",
    "\n",
    "plt.style.use('seaborn-whitegrid')\n",
    "plt.hist(cat_feat4, bins=30,facecolor = '#2ab0ff', edgecolor='#169acf', linewidth=0.5)  # density=False would make counts\n",
    "plt.ylabel('distribution')\n",
    "plt.xlabel('sale condition')\n",
    "\n",
    "plt.show()\n",
    "\n",
    "\n",
    "\n"
   ]
  },
  {
   "cell_type": "markdown",
   "metadata": {},
   "source": [
    "<span style=\"color:blue\">Answer: The distribution for continuous feature in the graph is the sale price from training dataset. This feature has a left skewed histogram. Each bar in the histogram represents how many occurance in each price range. The second graph has the categorical data of \"sales condition\". In this graph the data has 6 different categories and the heigh of the bar represents the number of occurence of each category.</span>"
   ]
  },
  {
   "cell_type": "markdown",
   "metadata": {},
   "source": [
    "2. Pre-process your data, explain your pre-processing steps, and the reasons why you need them. (Hint: data pre-processing steps can include but are not restricted to: dealing with missing values, normalizing numerical values, dealing with categorical values etc.)"
   ]
  },
  {
   "cell_type": "markdown",
   "metadata": {},
   "source": [
    "<span style=\"color:blue\"> \n",
    "In this pre-processing stage, we mainly perform 4 steps.\n",
    "<span style=\"color:blue\"> \n",
    "    \n",
    "* Drop columns where they have greater than 75% of NA values. When we perform data cleaning process, we found that there are several columns such as \"Alley\" has mainly NA values which are not significant to our study.\n",
    "\n",
    "* For remaining columns that don't have greater than 75% of NA values but do have small amount of NA values in the column. We will then fill mean values for those numeric features who has NA, and mode for those categorical values who has NA. Check if there is any additional NA values in the data set\n",
    " \n",
    "* We then divided dataset into categorical features and continuous features. Also manually exclude some categorical features who has numeric values from the continuous feature sets and extend those numeric categorical feature into the categorical feature sets.\n",
    "\n",
    "* Finally, we will check for the skewness of the continuous features. When we plot the histogram for \"Sale price\". We found that the graph is left skewed, which may mean there are a bunch of outliers in the dataset. So we take a log function to normalize those feature.\n"
   ]
  },
  {
   "cell_type": "code",
   "execution_count": 456,
   "metadata": {},
   "outputs": [],
   "source": [
    "#drop columns with NA values greater than 75%\n",
    "all_data1 = all_data.dropna(axis='columns', thresh=0.25*len(all_data))\n",
    "saleprice = all_data1['SalePrice']"
   ]
  },
  {
   "cell_type": "code",
   "execution_count": 457,
   "metadata": {},
   "outputs": [
    {
     "data": {
      "text/plain": [
       "True"
      ]
     },
     "execution_count": 457,
     "metadata": {},
     "output_type": "execute_result"
    }
   ],
   "source": [
    "#fill the remaining data with mean in numerical, mode in categorical: https://stackoverflow.com/questions/32617811/imputation-of-missing-values-for-categories-in-pandas\n",
    "all_data1.fillna(all_data1.agg(['mean',lambda x : x.value_counts().index[0]]).ffill().iloc[-1,:],inplace = True)\n",
    "\n",
    "#check if there are still na in the data set \n",
    "def find_nan_cols(data):\n",
    "    cols = []\n",
    "    lenn = len(data)\n",
    "    for col in data.columns:\n",
    "        if (data[col].count() < lenn):\n",
    "            cols.append(col)\n",
    "    return cols\n",
    "len(find_nan_cols(all_data1))==0"
   ]
  },
  {
   "cell_type": "code",
   "execution_count": 458,
   "metadata": {},
   "outputs": [],
   "source": [
    "# distinguish data between categorical and continuous\n",
    "col_numeric = list(all_data1.select_dtypes(exclude = 'object').columns)\n",
    "\n",
    "for cols in ['OverallCond','OverallQual','YearRemodAdd','YearBuilt','YrSold','MoSold','MSSubClass']:\n",
    "    col_numeric.remove(cols)\n",
    "    \n",
    "col_category= list(all_data1.select_dtypes(include = 'object').columns)\n",
    "all_data1[col_numeric].head(30)\n",
    "col_category.extend(['OverallCond','OverallQual','YearRemodAdd','YearBuilt','YrSold','MoSold','MSSubClass'])\n",
    "all_num = all_data1[col_numeric]\n",
    "all_cat = all_data1[col_category]\n",
    "all_num = all_num.drop('SalePrice',axis=1)"
   ]
  },
  {
   "cell_type": "code",
   "execution_count": 459,
   "metadata": {},
   "outputs": [
    {
     "data": {
      "image/png": "[encoded data removed]",
      "text/plain": [
       "<Figure size 432x288 with 1 Axes>"
      ]
     },
     "metadata": {},
     "output_type": "display_data"
    }
   ],
   "source": [
    "#Check skewness of dependent variable and independent variables, take log to normalize data\n",
    "skews = all_num.apply(lambda x: skew(x))\n",
    "skews = skewness[abs(skews) > 0.5]\n",
    "skewed_feat = skews.index\n",
    "all_num[skewed_feat] = np.log1p(all_num[skewed_feat])\n",
    "all_data1.SalePrice = np.log1p(all_data1.SalePrice)\n",
    "\n",
    "plt.style.use('seaborn-whitegrid')\n",
    "plt.hist(all_data1['SalePrice'], bins=30,facecolor = '#2ab0ff', edgecolor='#169acf', linewidth=0.5)  # density=False would make counts\n",
    "plt.ylabel('distribution')\n",
    "plt.xlabel('Sale price')\n",
    "plt.show()"
   ]
  },
  {
   "cell_type": "code",
   "execution_count": 460,
   "metadata": {},
   "outputs": [
    {
     "data": {
      "text/plain": [
       "0       12.247699\n",
       "1       12.109016\n",
       "2       12.317171\n",
       "3       11.849405\n",
       "4       12.429220\n",
       "          ...    \n",
       "1454    11.849405\n",
       "1455    11.849405\n",
       "1456    11.849405\n",
       "1457    11.849405\n",
       "1458    11.849405\n",
       "Name: SalePrice, Length: 2919, dtype: float64"
      ]
     },
     "execution_count": 460,
     "metadata": {},
     "output_type": "execute_result"
    }
   ],
   "source": [
    "all_data1['SalePrice']"
   ]
  },
  {
   "cell_type": "markdown",
   "metadata": {},
   "source": [
    "4. One common method of pre-processing categorical features is to use a one-hot encoding (OHE).\n",
    "Suppose that we start with a categorical feature xj , taking three possible values: xj ∈ {R , G , B }. A one-hot encoding of this feature replaces xj with three new features: xjR,xjG,xjB. Each feature contains a binary value of 0 or 1, depending on the value taken by xj . For example, if xj = G , then xjG =1 and xjR =xjB =0.\n",
    "\n",
    "    Give some examples of features that you think should use a one-hot encoding and explain why. Convert at least one  feature to a one-hot encoding (you can use your own implementation, or that in pandas or scikit-learn) and visualize the results by plotting feature histograms of the original feature and its new one-hot encoding."
   ]
  },
  {
   "cell_type": "markdown",
   "metadata": {},
   "source": [
    "<span style=\"color:blue\">Answer:The features that can be using one-hot encoding are 'LotShape', 'Sales Conditions\", 'LotConfig', and 'MSZoning', etc. In this example, I will pick all categorical features to perform the one-hot encoding."
   ]
  },
  {
   "cell_type": "code",
   "execution_count": 461,
   "metadata": {},
   "outputs": [
    {
     "name": "stdout",
     "output_type": "stream",
     "text": [
      "MSZoning : 5 label\n",
      "Street : 2 label\n",
      "LotShape : 4 label\n",
      "LandContour : 4 label\n",
      "Utilities : 2 label\n",
      "LotConfig : 5 label\n",
      "LandSlope : 3 label\n",
      "Neighborhood : 25 label\n",
      "Condition1 : 9 label\n",
      "Condition2 : 8 label\n",
      "BldgType : 5 label\n",
      "HouseStyle : 8 label\n",
      "RoofStyle : 6 label\n",
      "RoofMatl : 8 label\n",
      "Exterior1st : 15 label\n",
      "Exterior2nd : 16 label\n",
      "MasVnrType : 4 label\n",
      "ExterQual : 4 label\n",
      "ExterCond : 5 label\n",
      "Foundation : 6 label\n",
      "BsmtQual : 4 label\n",
      "BsmtCond : 4 label\n",
      "BsmtExposure : 4 label\n",
      "BsmtFinType1 : 6 label\n",
      "BsmtFinType2 : 6 label\n",
      "Heating : 6 label\n",
      "HeatingQC : 5 label\n",
      "CentralAir : 2 label\n",
      "Electrical : 5 label\n",
      "KitchenQual : 4 label\n",
      "Functional : 7 label\n",
      "FireplaceQu : 5 label\n",
      "GarageType : 6 label\n",
      "GarageFinish : 3 label\n",
      "GarageQual : 5 label\n",
      "GarageCond : 5 label\n",
      "PavedDrive : 3 label\n",
      "SaleType : 9 label\n",
      "SaleCondition : 6 label\n",
      "OverallCond : 9 label\n",
      "OverallQual : 10 label\n",
      "YearRemodAdd : 61 label\n",
      "YearBuilt : 118 label\n",
      "YrSold : 5 label\n",
      "MoSold : 12 label\n",
      "MSSubClass : 16 label\n"
     ]
    }
   ],
   "source": [
    "#Check unique features within each variable\n",
    "for col in all_data1[col_category].columns:\n",
    "    print(col,':',len(all_data1[col_category][col].unique()),'label')"
   ]
  },
  {
   "cell_type": "code",
   "execution_count": 462,
   "metadata": {},
   "outputs": [
    {
     "data": {
      "text/html": [
       "<div>\n",
       "<style scoped>\n",
       "    .dataframe tbody tr th:only-of-type {\n",
       "        vertical-align: middle;\n",
       "    }\n",
       "\n",
       "    .dataframe tbody tr th {\n",
       "        vertical-align: top;\n",
       "    }\n",
       "\n",
       "    .dataframe thead th {\n",
       "        text-align: right;\n",
       "    }\n",
       "</style>\n",
       "<table border=\"1\" class=\"dataframe\">\n",
       "  <thead>\n",
       "    <tr style=\"text-align: right;\">\n",
       "      <th></th>\n",
       "      <th>MSZoning_FV</th>\n",
       "      <th>MSZoning_RH</th>\n",
       "      <th>MSZoning_RL</th>\n",
       "      <th>MSZoning_RM</th>\n",
       "      <th>Street_Pave</th>\n",
       "      <th>LotShape_IR2</th>\n",
       "      <th>LotShape_IR3</th>\n",
       "      <th>LotShape_Reg</th>\n",
       "      <th>LandContour_HLS</th>\n",
       "      <th>LandContour_Low</th>\n",
       "      <th>...</th>\n",
       "      <th>MSSubClass_30</th>\n",
       "      <th>MSSubClass_40</th>\n",
       "      <th>MSSubClass_45</th>\n",
       "      <th>MSSubClass_50</th>\n",
       "      <th>MSSubClass_60</th>\n",
       "      <th>MSSubClass_70</th>\n",
       "      <th>MSSubClass_75</th>\n",
       "      <th>MSSubClass_80</th>\n",
       "      <th>MSSubClass_85</th>\n",
       "      <th>MSSubClass_90</th>\n",
       "    </tr>\n",
       "  </thead>\n",
       "  <tbody>\n",
       "    <tr>\n",
       "      <th>0</th>\n",
       "      <td>0</td>\n",
       "      <td>0</td>\n",
       "      <td>1</td>\n",
       "      <td>0</td>\n",
       "      <td>1</td>\n",
       "      <td>0</td>\n",
       "      <td>0</td>\n",
       "      <td>1</td>\n",
       "      <td>0</td>\n",
       "      <td>0</td>\n",
       "      <td>...</td>\n",
       "      <td>0</td>\n",
       "      <td>0</td>\n",
       "      <td>0</td>\n",
       "      <td>0</td>\n",
       "      <td>1</td>\n",
       "      <td>0</td>\n",
       "      <td>0</td>\n",
       "      <td>0</td>\n",
       "      <td>0</td>\n",
       "      <td>0</td>\n",
       "    </tr>\n",
       "    <tr>\n",
       "      <th>1</th>\n",
       "      <td>0</td>\n",
       "      <td>0</td>\n",
       "      <td>1</td>\n",
       "      <td>0</td>\n",
       "      <td>1</td>\n",
       "      <td>0</td>\n",
       "      <td>0</td>\n",
       "      <td>1</td>\n",
       "      <td>0</td>\n",
       "      <td>0</td>\n",
       "      <td>...</td>\n",
       "      <td>0</td>\n",
       "      <td>0</td>\n",
       "      <td>0</td>\n",
       "      <td>0</td>\n",
       "      <td>0</td>\n",
       "      <td>0</td>\n",
       "      <td>0</td>\n",
       "      <td>0</td>\n",
       "      <td>0</td>\n",
       "      <td>0</td>\n",
       "    </tr>\n",
       "    <tr>\n",
       "      <th>2</th>\n",
       "      <td>0</td>\n",
       "      <td>0</td>\n",
       "      <td>1</td>\n",
       "      <td>0</td>\n",
       "      <td>1</td>\n",
       "      <td>0</td>\n",
       "      <td>0</td>\n",
       "      <td>0</td>\n",
       "      <td>0</td>\n",
       "      <td>0</td>\n",
       "      <td>...</td>\n",
       "      <td>0</td>\n",
       "      <td>0</td>\n",
       "      <td>0</td>\n",
       "      <td>0</td>\n",
       "      <td>1</td>\n",
       "      <td>0</td>\n",
       "      <td>0</td>\n",
       "      <td>0</td>\n",
       "      <td>0</td>\n",
       "      <td>0</td>\n",
       "    </tr>\n",
       "    <tr>\n",
       "      <th>3</th>\n",
       "      <td>0</td>\n",
       "      <td>0</td>\n",
       "      <td>1</td>\n",
       "      <td>0</td>\n",
       "      <td>1</td>\n",
       "      <td>0</td>\n",
       "      <td>0</td>\n",
       "      <td>0</td>\n",
       "      <td>0</td>\n",
       "      <td>0</td>\n",
       "      <td>...</td>\n",
       "      <td>0</td>\n",
       "      <td>0</td>\n",
       "      <td>0</td>\n",
       "      <td>0</td>\n",
       "      <td>0</td>\n",
       "      <td>1</td>\n",
       "      <td>0</td>\n",
       "      <td>0</td>\n",
       "      <td>0</td>\n",
       "      <td>0</td>\n",
       "    </tr>\n",
       "    <tr>\n",
       "      <th>4</th>\n",
       "      <td>0</td>\n",
       "      <td>0</td>\n",
       "      <td>1</td>\n",
       "      <td>0</td>\n",
       "      <td>1</td>\n",
       "      <td>0</td>\n",
       "      <td>0</td>\n",
       "      <td>0</td>\n",
       "      <td>0</td>\n",
       "      <td>0</td>\n",
       "      <td>...</td>\n",
       "      <td>0</td>\n",
       "      <td>0</td>\n",
       "      <td>0</td>\n",
       "      <td>0</td>\n",
       "      <td>1</td>\n",
       "      <td>0</td>\n",
       "      <td>0</td>\n",
       "      <td>0</td>\n",
       "      <td>0</td>\n",
       "      <td>0</td>\n",
       "    </tr>\n",
       "  </tbody>\n",
       "</table>\n",
       "<p>5 rows × 424 columns</p>\n",
       "</div>"
      ],
      "text/plain": [
       "   MSZoning_FV  MSZoning_RH  MSZoning_RL  MSZoning_RM  Street_Pave  \\\n",
       "0            0            0            1            0            1   \n",
       "1            0            0            1            0            1   \n",
       "2            0            0            1            0            1   \n",
       "3            0            0            1            0            1   \n",
       "4            0            0            1            0            1   \n",
       "\n",
       "   LotShape_IR2  LotShape_IR3  LotShape_Reg  LandContour_HLS  LandContour_Low  \\\n",
       "0             0             0             1                0                0   \n",
       "1             0             0             1                0                0   \n",
       "2             0             0             0                0                0   \n",
       "3             0             0             0                0                0   \n",
       "4             0             0             0                0                0   \n",
       "\n",
       "   ...  MSSubClass_30  MSSubClass_40  MSSubClass_45  MSSubClass_50  \\\n",
       "0  ...              0              0              0              0   \n",
       "1  ...              0              0              0              0   \n",
       "2  ...              0              0              0              0   \n",
       "3  ...              0              0              0              0   \n",
       "4  ...              0              0              0              0   \n",
       "\n",
       "   MSSubClass_60  MSSubClass_70  MSSubClass_75  MSSubClass_80  MSSubClass_85  \\\n",
       "0              1              0              0              0              0   \n",
       "1              0              0              0              0              0   \n",
       "2              1              0              0              0              0   \n",
       "3              0              1              0              0              0   \n",
       "4              1              0              0              0              0   \n",
       "\n",
       "   MSSubClass_90  \n",
       "0              0  \n",
       "1              0  \n",
       "2              0  \n",
       "3              0  \n",
       "4              0  \n",
       "\n",
       "[5 rows x 424 columns]"
      ]
     },
     "execution_count": 462,
     "metadata": {},
     "output_type": "execute_result"
    }
   ],
   "source": [
    "#Lotshape_feat = all_data1[col_category]['LotShape']\n",
    "all_cat = pd.get_dummies(all_cat.astype(str), drop_first = True) #one hot encoding using panda methods without the sale price\n",
    "all_cat.head()"
   ]
  },
  {
   "cell_type": "markdown",
   "metadata": {},
   "source": [
    "5. Using ordinary least squares(OLS),try to predict house prices on this dataset.Choose the features (or combinations of features) you would like to use or ignore, provided you justify your choice. Evaluate your predictions on the training set using the MSE and the R2 score. For this question, you need to implement OLS from scratch without using any external libraries or packages.\n"
   ]
  },
  {
   "cell_type": "code",
   "execution_count": 463,
   "metadata": {},
   "outputs": [],
   "source": [
    "# join both numeric and catgorical data without sale price\n",
    "join_data = pd.concat([all_num,all_cat],axis=1)\n",
    "#training_d = join_data.iloc \n",
    "train_row = trainData.shape[0]#return row number\n",
    "training = join_data.iloc[:train_row] # we only want cleanned data with the original training data size\n",
    "x_test = join_data.iloc[train_row:]\n",
    "y = all_data1[:train_row].SalePrice\n",
    "x_train, x_valid,y_train,y_valid = train_test_split(training, y, test_size = 0.3, random_state = 0)\n"
   ]
  },
  {
   "cell_type": "markdown",
   "metadata": {},
   "source": [
    "<span style=\"color:blue\"> Based on the course lecture, for any parameter vector $\\theta$, the fitted value is X$\\theta$, and thus the term in the exponent is the function showing as below:"
   ]
  },
  {
   "cell_type": "markdown",
   "metadata": {},
   "source": [
    "<span style=\"color:blue\">\n",
    "$$\n",
    "S(\\theta) = (y-X\\theta)^\\top * (y-X\\theta)\n",
    "$$"
   ]
  },
  {
   "cell_type": "markdown",
   "metadata": {},
   "source": [
    "<span style=\"color:blue\">\n",
    "This function is a measure of goodness of fit. If S$\\theta$ is small, then y and the fiited value will be caloses located to yield a smaller MSE. The minimum value of S($\\theta$) is obtained when \n",
    "            $$X^\\top X\\theta = X^\\top y $$"
   ]
  },
  {
   "cell_type": "markdown",
   "metadata": {},
   "source": [
    "<span style=\"color:blue\">\n",
    "Therefore we can get the OLS equation of $$ \\theta^* = (X^\\top X)^{-1} X^\\top y.$$"
   ]
  },
  {
   "cell_type": "code",
   "execution_count": 464,
   "metadata": {},
   "outputs": [],
   "source": [
    "#define the theta function.   \n",
    "def theta(x_train, y_train):\n",
    "    return np.linalg.pinv(x_train.T.dot(x_train)).dot(x_train.T).dot(y_train) "
   ]
  },
  {
   "cell_type": "markdown",
   "metadata": {},
   "source": [
    "<span style=\"color:blue\">\n",
    "$$ f(x) = \\theta^\\top X $$\n",
    "Since the x_train matrix is a singular square matrix that cannot be inverted, we compute the pseudo-inverse of the matrix. Once we have the theta value, we can then calculate the MSE."
   ]
  },
  {
   "cell_type": "code",
   "execution_count": 465,
   "metadata": {},
   "outputs": [],
   "source": [
    "theta1 = theta(x_train, y_train)\n",
    "mse = mean_squared_error(x_valid.dot(theta1),y_valid)\n",
    "r2 = r2_score(x_valid.dot(theta1), y_valid)\n",
    "theta2 = theta(x_train, y_train).reshape((454,1))\n",
    "y_pred = x_train.dot(theta2)"
   ]
  },
  {
   "cell_type": "code",
   "execution_count": 466,
   "metadata": {},
   "outputs": [
    {
     "data": {
      "text/plain": [
       "(0.11466877348676957, 0.5362345578749224)"
      ]
     },
     "execution_count": 466,
     "metadata": {},
     "output_type": "execute_result"
    }
   ],
   "source": [
    "mse, r2"
   ]
  },
  {
   "cell_type": "markdown",
   "metadata": {},
   "source": [
    "6. Train your model using all of the training data (all data points,but not necessarily all the features), and test it using the testing data. Submit your results to Kaggle."
   ]
  },
  {
   "cell_type": "code",
   "execution_count": 467,
   "metadata": {},
   "outputs": [],
   "source": [
    "y_pred_test = x_test.dot(theta(x_train, y_train))\n",
    "y_pred_test = np.expm1(y_pred_test)"
   ]
  },
  {
   "cell_type": "code",
   "execution_count": 468,
   "metadata": {},
   "outputs": [
    {
     "data": {
      "text/plain": [
       "0       131764.329268\n",
       "1       158689.308818\n",
       "2       193009.441106\n",
       "3       201673.866413\n",
       "4       182524.631302\n",
       "            ...      \n",
       "1454     86250.612875\n",
       "1455     64654.611393\n",
       "1456    165958.051713\n",
       "1457    111546.692319\n",
       "1458    185505.593657\n",
       "Length: 1459, dtype: float64"
      ]
     },
     "execution_count": 468,
     "metadata": {},
     "output_type": "execute_result"
    }
   ],
   "source": [
    "y_pred_test"
   ]
  },
  {
   "cell_type": "code",
   "execution_count": 469,
   "metadata": {},
   "outputs": [],
   "source": [
    "submission = testData.copy()\n",
    "\n",
    "submission[\"SalePrice\"] = y_pred_test\n",
    "submission = submission[[\"Id\", \"SalePrice\"]]\n",
    "submission.to_csv('./submission.csv',index=False)"
   ]
  },
  {
   "cell_type": "code",
   "execution_count": 470,
   "metadata": {},
   "outputs": [
    {
     "data": {
      "text/html": [
       "<div>\n",
       "<style scoped>\n",
       "    .dataframe tbody tr th:only-of-type {\n",
       "        vertical-align: middle;\n",
       "    }\n",
       "\n",
       "    .dataframe tbody tr th {\n",
       "        vertical-align: top;\n",
       "    }\n",
       "\n",
       "    .dataframe thead th {\n",
       "        text-align: right;\n",
       "    }\n",
       "</style>\n",
       "<table border=\"1\" class=\"dataframe\">\n",
       "  <thead>\n",
       "    <tr style=\"text-align: right;\">\n",
       "      <th></th>\n",
       "      <th>Id</th>\n",
       "      <th>SalePrice</th>\n",
       "    </tr>\n",
       "  </thead>\n",
       "  <tbody>\n",
       "    <tr>\n",
       "      <th>0</th>\n",
       "      <td>1461</td>\n",
       "      <td>131764.329268</td>\n",
       "    </tr>\n",
       "    <tr>\n",
       "      <th>1</th>\n",
       "      <td>1462</td>\n",
       "      <td>158689.308818</td>\n",
       "    </tr>\n",
       "    <tr>\n",
       "      <th>2</th>\n",
       "      <td>1463</td>\n",
       "      <td>193009.441106</td>\n",
       "    </tr>\n",
       "    <tr>\n",
       "      <th>3</th>\n",
       "      <td>1464</td>\n",
       "      <td>201673.866413</td>\n",
       "    </tr>\n",
       "    <tr>\n",
       "      <th>4</th>\n",
       "      <td>1465</td>\n",
       "      <td>182524.631302</td>\n",
       "    </tr>\n",
       "    <tr>\n",
       "      <th>...</th>\n",
       "      <td>...</td>\n",
       "      <td>...</td>\n",
       "    </tr>\n",
       "    <tr>\n",
       "      <th>1454</th>\n",
       "      <td>2915</td>\n",
       "      <td>86250.612875</td>\n",
       "    </tr>\n",
       "    <tr>\n",
       "      <th>1455</th>\n",
       "      <td>2916</td>\n",
       "      <td>64654.611393</td>\n",
       "    </tr>\n",
       "    <tr>\n",
       "      <th>1456</th>\n",
       "      <td>2917</td>\n",
       "      <td>165958.051713</td>\n",
       "    </tr>\n",
       "    <tr>\n",
       "      <th>1457</th>\n",
       "      <td>2918</td>\n",
       "      <td>111546.692319</td>\n",
       "    </tr>\n",
       "    <tr>\n",
       "      <th>1458</th>\n",
       "      <td>2919</td>\n",
       "      <td>185505.593657</td>\n",
       "    </tr>\n",
       "  </tbody>\n",
       "</table>\n",
       "<p>1459 rows × 2 columns</p>\n",
       "</div>"
      ],
      "text/plain": [
       "        Id      SalePrice\n",
       "0     1461  131764.329268\n",
       "1     1462  158689.308818\n",
       "2     1463  193009.441106\n",
       "3     1464  201673.866413\n",
       "4     1465  182524.631302\n",
       "...    ...            ...\n",
       "1454  2915   86250.612875\n",
       "1455  2916   64654.611393\n",
       "1456  2917  165958.051713\n",
       "1457  2918  111546.692319\n",
       "1458  2919  185505.593657\n",
       "\n",
       "[1459 rows x 2 columns]"
      ]
     },
     "execution_count": 470,
     "metadata": {},
     "output_type": "execute_result"
    }
   ],
   "source": [
    "submission"
   ]
  },
  {
   "cell_type": "markdown",
   "metadata": {},
   "source": [
    "<span style=\"color:blue\"> Below is our submission score in Kaggle. Our overall score is 0.62918     \n",
    " <img src=\"submitKaggle2.jpeg\"\n",
    "     alt=\"Markdown Monster icon\"\n",
    "     style=\"float: left; margin-right: 10px;\" />\n",
    "     \n",
    "Since our pitures don't show when convert Jupyter HTML to PDF, we will include both pictures of Kaggle scores in the last page of the pdf file. "
   ]
  },
  {
   "cell_type": "code",
   "execution_count": 1,
   "metadata": {},
   "outputs": [
    {
     "ename": "NameError",
     "evalue": "name 'e' is not defined",
     "output_type": "error",
     "traceback": [
      "\u001b[0;31m---------------------------------------------------------------------------\u001b[0m",
      "\u001b[0;31mNameError\u001b[0m                                 Traceback (most recent call last)",
      "\u001b[0;32m<ipython-input-1-5584b0ed420c>\u001b[0m in \u001b[0;36m<module>\u001b[0;34m\u001b[0m\n\u001b[0;32m----> 1\u001b[0;31m \u001b[0mprint\u001b[0m\u001b[0;34m(\u001b[0m\u001b[0;34m(\u001b[0m\u001b[0;36m1\u001b[0m\u001b[0;34m/\u001b[0m\u001b[0;36m5\u001b[0m\u001b[0;34m)\u001b[0m\u001b[0;34m*\u001b[0m\u001b[0me\u001b[0m\u001b[0;34m**\u001b[0m\u001b[0;34m(\u001b[0m\u001b[0;34m-\u001b[0m\u001b[0;36m0.2\u001b[0m\u001b[0;34m*\u001b[0m\u001b[0;36m10\u001b[0m\u001b[0;34m)\u001b[0m\u001b[0;34m)\u001b[0m\u001b[0;34m\u001b[0m\u001b[0;34m\u001b[0m\u001b[0m\n\u001b[0m",
      "\u001b[0;31mNameError\u001b[0m: name 'e' is not defined"
     ]
    }
   ],
   "source": [
    "print((1/5)*e**(-0.2*10))"
   ]
  },
  {
   "cell_type": "code",
   "execution_count": null,
   "metadata": {},
   "outputs": [],
   "source": []
  }
 ],
 "metadata": {
  "kernelspec": {
   "display_name": "Python 3",
   "language": "python",
   "name": "python3"
  },
  "language_info": {
   "codemirror_mode": {
    "name": "ipython",
    "version": 3
   },
   "file_extension": ".py",
   "mimetype": "text/x-python",
   "name": "python",
   "nbconvert_exporter": "python",
   "pygments_lexer": "ipython3",
   "version": "3.7.6"
  }
 },
 "nbformat": 4,
 "nbformat_minor": 4
}
